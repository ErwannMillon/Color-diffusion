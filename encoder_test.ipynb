{
 "cells": [
  {
   "cell_type": "code",
   "execution_count": 6,
   "metadata": {},
   "outputs": [],
   "source": [
    "import torch\n",
    "import denoising\n",
    "import importlib \n",
    "importlib.reload(denoising)\n",
    "enc = denoising.Encoder(\n",
    "    channels=1,\n",
    "    dropout=0.3,\n",
    "    self_condition=False,\n",
    "    out_dim=2,\n",
    "    dim=128,\n",
    "    dim_mults=[1, 2, 4, 4],\n",
    ")\n",
    "input = torch.randn(1, 1, 128, 128)\n",
    "out = enc(input)"
   ]
  },
  {
   "cell_type": "code",
   "execution_count": 1,
   "metadata": {},
   "outputs": [
    {
     "name": "stderr",
     "output_type": "stream",
     "text": [
      "/opt/conda/envs/colordiff/lib/python3.9/site-packages/tqdm/auto.py:22: TqdmWarning: IProgress not found. Please update jupyter and ipywidgets. See https://ipywidgets.readthedocs.io/en/stable/user_install.html\n",
      "  from .autonotebook import tqdm as notebook_tqdm\n"
     ]
    },
    {
     "name": "stdout",
     "output_type": "stream",
     "text": [
      "train size: 182339\n",
      "val size: 20260\n"
     ]
    },
    {
     "name": "stderr",
     "output_type": "stream",
     "text": [
      "/opt/conda/envs/colordiff/lib/python3.9/site-packages/torchvision/transforms/transforms.py:329: UserWarning: Argument 'interpolation' of type int is deprecated since 0.13 and will be removed in 0.15. Please use InterpolationMode enum.\n",
      "  warnings.warn(\n"
     ]
    }
   ],
   "source": [
    "colordiff_config = dict(\n",
    "    device = \"gpu\",\n",
    "    pin_memory = True,\n",
    "    T=350,\n",
    "    # lr=6e-4,\n",
    "    lr = 0.00006,\n",
    "    batch_size=4,\n",
    "    img_size = 128,\n",
    "    sample=True,\n",
    "    should_log=True,\n",
    "    epochs=2000,\n",
    "    using_cond=True,\n",
    "    display_every=20,\n",
    "    dynamic_threshold=False,\n",
    "    train_autoenc=False,\n",
    "    enc_loss_coeff = 1.5,\n",
    ") \n",
    "\n",
    "from dataset import make_dataloaders_celeba\n",
    "train_dl, val_dl = make_dataloaders_celeba(\"./img_align_celeba\", colordiff_config, num_workers=4, limit=100)"
   ]
  },
  {
   "cell_type": "code",
   "execution_count": 2,
   "metadata": {},
   "outputs": [
    {
     "ename": "",
     "evalue": "",
     "output_type": "error",
     "traceback": [
      "\u001b[1;31mCanceled future for execute_request message before replies were done"
     ]
    },
    {
     "ename": "",
     "evalue": "",
     "output_type": "error",
     "traceback": [
      "\u001b[1;31mThe Kernel crashed while executing code in the the current cell or a previous cell. Please review the code in the cell(s) to identify a possible cause of the failure. Click <a href='https://aka.ms/vscodeJupyterKernelCrash'>here</a> for more info. View Jupyter <a href='command:jupyter.viewOutput'>log</a> for further details."
     ]
    }
   ],
   "source": [
    "x = next(iter(train_dl))"
   ]
  },
  {
   "cell_type": "code",
   "execution_count": 7,
   "metadata": {},
   "outputs": [
    {
     "name": "stdout",
     "output_type": "stream",
     "text": [
      "4\n",
      "[torch.Size([1, 128, 128, 128]), torch.Size([1, 128, 64, 64]), torch.Size([1, 256, 32, 32]), torch.Size([1, 512, 16, 16])]\n"
     ]
    }
   ],
   "source": [
    "print(len(out))\n",
    "print([x.shape for x in out])"
   ]
  }
 ],
 "metadata": {
  "kernelspec": {
   "display_name": "colordiff",
   "language": "python",
   "name": "python3"
  },
  "language_info": {
   "codemirror_mode": {
    "name": "ipython",
    "version": 3
   },
   "file_extension": ".py",
   "mimetype": "text/x-python",
   "name": "python",
   "nbconvert_exporter": "python",
   "pygments_lexer": "ipython3",
   "version": "3.9.15"
  },
  "orig_nbformat": 4,
  "vscode": {
   "interpreter": {
    "hash": "385263a5368b6374e65ba23ed634172091825d3dc91ad6f06db0e337f8d7a693"
   }
  }
 },
 "nbformat": 4,
 "nbformat_minor": 2
}
